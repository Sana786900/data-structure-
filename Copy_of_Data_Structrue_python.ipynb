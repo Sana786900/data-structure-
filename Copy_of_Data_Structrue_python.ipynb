{
  "nbformat": 4,
  "nbformat_minor": 0,
  "metadata": {
    "colab": {
      "provenance": []
    },
    "kernelspec": {
      "name": "python3",
      "display_name": "Python 3"
    },
    "language_info": {
      "name": "python"
    }
  },
  "cells": [
    {
      "cell_type": "markdown",
      "source": [
        "**String Slicing**"
      ],
      "metadata": {
        "id": "7MEoNoFqUQbY"
      }
    },
    {
      "cell_type": "code",
      "source": [
        "# String slicing allows to return a range of characters by using the slicing syntax.\n",
        "# The slicing syntax is: string[start:stop:step]. Indexing in Python starts from 0.\n",
        "# Example\n",
        "d = 'data,science'"
      ],
      "metadata": {
        "id": "etK8Os5aUasb"
      },
      "execution_count": null,
      "outputs": []
    },
    {
      "cell_type": "code",
      "source": [
        "# Slice from index 0 to 5 (excluding 5)\n",
        "print(d[0:5])"
      ],
      "metadata": {
        "colab": {
          "base_uri": "https://localhost:8080/"
        },
        "id": "5Y15d9ofUs4R",
        "outputId": "f24e6caf-f71d-4d81-f170-6d5617002a2e"
      },
      "execution_count": null,
      "outputs": [
        {
          "output_type": "stream",
          "name": "stdout",
          "text": [
            "data,\n"
          ]
        }
      ]
    },
    {
      "cell_type": "code",
      "source": [
        "# Slice with steps start at index 5, stop at index 12, and take every second character\n",
        "print(d[5:12:2])"
      ],
      "metadata": {
        "colab": {
          "base_uri": "https://localhost:8080/"
        },
        "id": "0cdH-QhCVG_E",
        "outputId": "a258d4c7-1e70-4adc-b057-5a3c129d2df8"
      },
      "execution_count": null,
      "outputs": [
        {
          "output_type": "stream",
          "name": "stdout",
          "text": [
            "sine\n"
          ]
        }
      ]
    },
    {
      "cell_type": "code",
      "source": [
        "# Negative slicing starts from the back side\n",
        "# Slice from index -1 (last character) to -12 (exclusive)\n",
        "print(d[-1:-12:-2])"
      ],
      "metadata": {
        "colab": {
          "base_uri": "https://localhost:8080/"
        },
        "id": "szQz7l6-Veor",
        "outputId": "0855148d-a2a2-458d-8d47-33c53b32fd34"
      },
      "execution_count": null,
      "outputs": [
        {
          "output_type": "stream",
          "name": "stdout",
          "text": [
            "enisaa\n"
          ]
        }
      ]
    },
    {
      "cell_type": "code",
      "source": [
        "#-1 reverse string\n",
        "print(d[::-1])"
      ],
      "metadata": {
        "colab": {
          "base_uri": "https://localhost:8080/"
        },
        "id": "aXgS6E3rV1Mu",
        "outputId": "3416d317-96e6-4eab-df30-06b63fbc2cb3"
      },
      "execution_count": null,
      "outputs": [
        {
          "output_type": "stream",
          "name": "stdout",
          "text": [
            "ecneics,atad\n"
          ]
        }
      ]
    },
    {
      "cell_type": "markdown",
      "source": [
        " **Features of Python** **Lists**"
      ],
      "metadata": {
        "id": "4el3TBbabmce"
      }
    },
    {
      "cell_type": "code",
      "source": [
        "#Lists are used to store multiple items in a single variable, created using square brackets [].\n",
        "#ists maintain the order of elements.\n",
        "#Lists are mutable, meaning you can add, remove, or change items after creation.\n",
        "#Lists allow duplicates."
      ],
      "metadata": {
        "id": "_2wMH3LvcAFj"
      },
      "execution_count": null,
      "outputs": []
    },
    {
      "cell_type": "code",
      "source": [
        "list = [\"sana\", 2+3j, 123, { 'age': 39 }]\n",
        "\n"
      ],
      "metadata": {
        "id": "6W4dTws_cZOt"
      },
      "execution_count": null,
      "outputs": []
    },
    {
      "cell_type": "code",
      "source": [
        "# Adding an item to the list using append\n",
        "list.append(\"bat\")\n",
        "print(list)  # Output: ['sana', (2+3j), 123, {'age': 39}, 'bat']"
      ],
      "metadata": {
        "colab": {
          "base_uri": "https://localhost:8080/"
        },
        "id": "0JxDpviKcdPC",
        "outputId": "9f5d04ac-9eea-49a3-82f0-da7fafbdd0b7"
      },
      "execution_count": null,
      "outputs": [
        {
          "output_type": "stream",
          "name": "stdout",
          "text": [
            "['sana', (2+3j), 123, {'age': 39}, 'bat', 'bat']\n"
          ]
        }
      ]
    },
    {
      "cell_type": "code",
      "source": [
        "# Inserting an item at a particular index\n",
        "list.insert(1, \"pan\")\n",
        "print(list)  # Output: ['sana', 'pan', (2+3j), 123, {'age': 39}, 'bat']\n"
      ],
      "metadata": {
        "colab": {
          "base_uri": "https://localhost:8080/"
        },
        "id": "VPPqWN9BckL4",
        "outputId": "04730256-408e-4475-fd6c-2f5367041cf4"
      },
      "execution_count": null,
      "outputs": [
        {
          "output_type": "stream",
          "name": "stdout",
          "text": [
            "['sana', 'pan', (2+3j), 123, {'age': 39}, 'bat', 'bat']\n"
          ]
        }
      ]
    },
    {
      "cell_type": "code",
      "source": [
        "# Removing the last item using pop\n",
        "list.pop()  # Output: 'bat'"
      ],
      "metadata": {
        "colab": {
          "base_uri": "https://localhost:8080/",
          "height": 36
        },
        "id": "PAi5vi0_crY2",
        "outputId": "5e0c9ac3-dd61-4852-f332-974f4e1cb9d6"
      },
      "execution_count": null,
      "outputs": [
        {
          "output_type": "execute_result",
          "data": {
            "text/plain": [
              "'bat'"
            ],
            "application/vnd.google.colaboratory.intrinsic+json": {
              "type": "string"
            }
          },
          "metadata": {},
          "execution_count": 26
        }
      ]
    },
    {
      "cell_type": "code",
      "source": [
        "\n",
        "# Removing a specific item\n",
        "list.remove(\"sana\")\n",
        "print(list)  # Output: ['pan', (2+3j), 123, {'age': 39}]"
      ],
      "metadata": {
        "colab": {
          "base_uri": "https://localhost:8080/"
        },
        "id": "cx5-DIL_cv-R",
        "outputId": "835c5029-3daa-488c-f8fe-0ad2b40575b8"
      },
      "execution_count": null,
      "outputs": [
        {
          "output_type": "stream",
          "name": "stdout",
          "text": [
            "['pan', (2+3j), 123, {'age': 39}, 'bat']\n"
          ]
        }
      ]
    },
    {
      "cell_type": "markdown",
      "source": [
        "#  Access, modify, and delete items in a list\n"
      ],
      "metadata": {
        "id": "fc1KOokidzaq"
      }
    },
    {
      "cell_type": "code",
      "source": [
        "# We can access list items using indexing (starting from 0)\n",
        "my_list = [\"sana\", 2+3j, 123, { 'age': 39 }]\n",
        "my_list[1]\n",
        "\n"
      ],
      "metadata": {
        "colab": {
          "base_uri": "https://localhost:8080/"
        },
        "id": "rgtZKUOudx4-",
        "outputId": "3d031c57-d69d-4bf4-ca49-7f5357fffd9a"
      },
      "execution_count": null,
      "outputs": [
        {
          "output_type": "execute_result",
          "data": {
            "text/plain": [
              "(2+3j)"
            ]
          },
          "metadata": {},
          "execution_count": 28
        }
      ]
    },
    {
      "cell_type": "code",
      "source": [
        "my_list[1]\n"
      ],
      "metadata": {
        "colab": {
          "base_uri": "https://localhost:8080/"
        },
        "id": "rV84YfFAfrCW",
        "outputId": "56ce626a-2ed8-4232-baff-664d7fc5b373"
      },
      "execution_count": null,
      "outputs": [
        {
          "output_type": "execute_result",
          "data": {
            "text/plain": [
              "(2+3j)"
            ]
          },
          "metadata": {},
          "execution_count": 29
        }
      ]
    },
    {
      "cell_type": "code",
      "source": [
        "# Modify using indexing\n",
        "my_list[-2] = {555-90j}\n"
      ],
      "metadata": {
        "id": "PiU701ypfxjt"
      },
      "execution_count": null,
      "outputs": []
    },
    {
      "cell_type": "code",
      "source": [
        "print(my_list)\n"
      ],
      "metadata": {
        "colab": {
          "base_uri": "https://localhost:8080/"
        },
        "id": "Hvvlxpg0f5S4",
        "outputId": "1353fea5-ef78-42ac-846e-68337f89f36c"
      },
      "execution_count": null,
      "outputs": [
        {
          "output_type": "stream",
          "name": "stdout",
          "text": [
            "['sana', (2+3j), {(555-90j)}, {'age': 39}]\n"
          ]
        }
      ]
    },
    {
      "cell_type": "code",
      "source": [
        "# Deleting items using pop, remove, or clear\n",
        "my_list.pop()\n"
      ],
      "metadata": {
        "colab": {
          "base_uri": "https://localhost:8080/"
        },
        "id": "UwrN9ESqgKrJ",
        "outputId": "c27940b9-7a13-4fc4-d9a6-1d302cfd61f8"
      },
      "execution_count": null,
      "outputs": [
        {
          "output_type": "execute_result",
          "data": {
            "text/plain": [
              "{'age': 39}"
            ]
          },
          "metadata": {},
          "execution_count": 32
        }
      ]
    },
    {
      "cell_type": "code",
      "source": [
        "my_list.remove(\"sana\")\n",
        "print(my_list)\n"
      ],
      "metadata": {
        "colab": {
          "base_uri": "https://localhost:8080/"
        },
        "id": "Uk-9N6-JgVj-",
        "outputId": "ea5bc01d-3cf9-4489-8d48-8e9e3f38cb89"
      },
      "execution_count": null,
      "outputs": [
        {
          "output_type": "stream",
          "name": "stdout",
          "text": [
            "[(2+3j), {(555-90j)}]\n"
          ]
        }
      ]
    },
    {
      "cell_type": "code",
      "source": [
        "# Clearing all elements from the list\n",
        "my_list.clear()\n"
      ],
      "metadata": {
        "id": "zUIOijiegbne"
      },
      "execution_count": null,
      "outputs": []
    },
    {
      "cell_type": "code",
      "source": [
        "print(my_list)\n"
      ],
      "metadata": {
        "colab": {
          "base_uri": "https://localhost:8080/"
        },
        "id": "PcMNuUpEggRE",
        "outputId": "6a9cf085-c5fa-46db-9594-87838b541b4d"
      },
      "execution_count": null,
      "outputs": [
        {
          "output_type": "stream",
          "name": "stdout",
          "text": [
            "[]\n"
          ]
        }
      ]
    },
    {
      "cell_type": "markdown",
      "source": [
        "**list vs** **tuple**"
      ],
      "metadata": {
        "id": "ynA9r9NlWTD4"
      }
    },
    {
      "cell_type": "code",
      "source": [
        "# List is  mutable, we can change  them after creation.\n",
        "# Example\n",
        "lst = ['sana', (2+3j), 123, {'age': 39}, 'bat', 'bat', 'bat']\n",
        "print(lst)"
      ],
      "metadata": {
        "colab": {
          "base_uri": "https://localhost:8080/"
        },
        "id": "ntugdqkjWXcG",
        "outputId": "a9b0b08a-05b3-44b4-bb95-8e63cb68be2d"
      },
      "execution_count": null,
      "outputs": [
        {
          "output_type": "stream",
          "name": "stdout",
          "text": [
            "['sana', (2+3j), 123, {'age': 39}, 'bat', 'bat', 'bat']\n"
          ]
        }
      ]
    },
    {
      "cell_type": "code",
      "source": [
        "# Tuples are immutable, can be change after creation.\n",
        "# Example\n",
        "tup = ('sana', 2+3j, 123, 234, 963, 'sana', 'sana')\n",
        "print(tup)"
      ],
      "metadata": {
        "colab": {
          "base_uri": "https://localhost:8080/"
        },
        "id": "SrUQ6neAWq-n",
        "outputId": "9d11231e-5616-42cb-d060-720cabfaaadd"
      },
      "execution_count": null,
      "outputs": [
        {
          "output_type": "stream",
          "name": "stdout",
          "text": [
            "('sana', (2+3j), 123, 234, 963, 'sana', 'sana')\n"
          ]
        }
      ]
    },
    {
      "cell_type": "code",
      "source": [
        "# Lists allow repetition of elements\n",
        "print(lst.count('bat'))"
      ],
      "metadata": {
        "colab": {
          "base_uri": "https://localhost:8080/"
        },
        "id": "jN5oY7tmW8zG",
        "outputId": "5b0e5589-e955-4f41-d3d0-58c03e3f0df3"
      },
      "execution_count": null,
      "outputs": [
        {
          "output_type": "stream",
          "name": "stdout",
          "text": [
            "3\n"
          ]
        }
      ]
    },
    {
      "cell_type": "code",
      "source": [
        "\n",
        "# Tuples allow repetition of elements but are immutable\n",
        "print(tup.count('sana'))"
      ],
      "metadata": {
        "colab": {
          "base_uri": "https://localhost:8080/"
        },
        "id": "tX0OC7ShXHhF",
        "outputId": "8474860a-f382-4f82-be90-7b61bfb68809"
      },
      "execution_count": null,
      "outputs": [
        {
          "output_type": "stream",
          "name": "stdout",
          "text": [
            "3\n"
          ]
        }
      ]
    },
    {
      "cell_type": "code",
      "source": [
        "# denoted by ()\n",
        "tup = ('sana', 2+3j, 123, 234, 963, 'sana', 'sana')\n",
        "type(tup)"
      ],
      "metadata": {
        "colab": {
          "base_uri": "https://localhost:8080/"
        },
        "id": "AkGxZI5jZCLP",
        "outputId": "81962841-1673-4465-8017-822c4c857ee9"
      },
      "execution_count": null,
      "outputs": [
        {
          "output_type": "execute_result",
          "data": {
            "text/plain": [
              "tuple"
            ]
          },
          "metadata": {},
          "execution_count": 19
        }
      ]
    },
    {
      "cell_type": "code",
      "source": [
        "# denoted by []\n",
        "lst = ['sana', (2+3j), 123, {'age': 39}, 'bat', 'bat', 'bat']\n",
        "type(lst)"
      ],
      "metadata": {
        "colab": {
          "base_uri": "https://localhost:8080/"
        },
        "id": "FIjWTRyFZVYe",
        "outputId": "510ff463-e0c3-4505-fbd6-8ffc56c57f8f"
      },
      "execution_count": null,
      "outputs": [
        {
          "output_type": "execute_result",
          "data": {
            "text/plain": [
              "list"
            ]
          },
          "metadata": {},
          "execution_count": 20
        }
      ]
    },
    {
      "cell_type": "markdown",
      "source": [
        "# **feature of sets and there uses**"
      ],
      "metadata": {
        "id": "1cusD4dAtfcU"
      }
    },
    {
      "cell_type": "code",
      "source": [
        "#unique unorderd collection\n",
        "#it does not allowed duplicate elements\n",
        "#it does not allowed indexing\n",
        "#it does not allowed slicing\n",
        "# written in currly bracket {}\n",
        "set = {20,30,400,1, 3, 4}\n"
      ],
      "metadata": {
        "id": "PUKUwAD9t3W7"
      },
      "execution_count": null,
      "outputs": []
    },
    {
      "cell_type": "code",
      "source": [
        "##unique unorderd collection\n",
        "print(set)"
      ],
      "metadata": {
        "colab": {
          "base_uri": "https://localhost:8080/"
        },
        "id": "lWsKk55Owpt9",
        "outputId": "1659d3de-eaeb-4201-f3e1-fe4e43718a46"
      },
      "execution_count": null,
      "outputs": [
        {
          "output_type": "stream",
          "name": "stdout",
          "text": [
            "{400, 1, 3, 4, 20, 30}\n"
          ]
        }
      ]
    },
    {
      "cell_type": "code",
      "source": [
        "#it does not allowed duplicate elements\n",
        "{20,30,400,1,1,30,30,3, 4}"
      ],
      "metadata": {
        "colab": {
          "base_uri": "https://localhost:8080/"
        },
        "id": "MZJlh0r6xpRF",
        "outputId": "b5fdfd8e-5565-4077-9f2e-649db8feace5"
      },
      "execution_count": null,
      "outputs": [
        {
          "output_type": "execute_result",
          "data": {
            "text/plain": [
              "{1, 3, 4, 20, 30, 400}"
            ]
          },
          "metadata": {},
          "execution_count": 43
        }
      ]
    },
    {
      "cell_type": "code",
      "source": [
        "#it does not allowed indexing\n",
        "print(set[0])"
      ],
      "metadata": {
        "colab": {
          "base_uri": "https://localhost:8080/",
          "height": 158
        },
        "id": "PbT1Si2oyIuM",
        "outputId": "d763cdbe-3a0a-412b-9d66-98707da8f018"
      },
      "execution_count": null,
      "outputs": [
        {
          "output_type": "error",
          "ename": "TypeError",
          "evalue": "'set' object is not subscriptable",
          "traceback": [
            "\u001b[0;31m---------------------------------------------------------------------------\u001b[0m",
            "\u001b[0;31mTypeError\u001b[0m                                 Traceback (most recent call last)",
            "\u001b[0;32m<ipython-input-44-8736053d20d4>\u001b[0m in \u001b[0;36m<cell line: 2>\u001b[0;34m()\u001b[0m\n\u001b[1;32m      1\u001b[0m \u001b[0;31m#it does not allowed indexing\u001b[0m\u001b[0;34m\u001b[0m\u001b[0;34m\u001b[0m\u001b[0m\n\u001b[0;32m----> 2\u001b[0;31m \u001b[0mprint\u001b[0m\u001b[0;34m(\u001b[0m\u001b[0mset\u001b[0m\u001b[0;34m[\u001b[0m\u001b[0;36m0\u001b[0m\u001b[0;34m]\u001b[0m\u001b[0;34m)\u001b[0m\u001b[0;34m\u001b[0m\u001b[0;34m\u001b[0m\u001b[0m\n\u001b[0m",
            "\u001b[0;31mTypeError\u001b[0m: 'set' object is not subscriptable"
          ]
        }
      ]
    },
    {
      "cell_type": "code",
      "source": [
        "#it does not allowed slicing\n",
        "print(set[1:3])"
      ],
      "metadata": {
        "colab": {
          "base_uri": "https://localhost:8080/",
          "height": 158
        },
        "id": "1BYrdSkzy4QS",
        "outputId": "c9899ca4-29bb-4c6f-fc11-e17f2006d5bf"
      },
      "execution_count": null,
      "outputs": [
        {
          "output_type": "error",
          "ename": "TypeError",
          "evalue": "'set' object is not subscriptable",
          "traceback": [
            "\u001b[0;31m---------------------------------------------------------------------------\u001b[0m",
            "\u001b[0;31mTypeError\u001b[0m                                 Traceback (most recent call last)",
            "\u001b[0;32m<ipython-input-45-d265a569de28>\u001b[0m in \u001b[0;36m<cell line: 2>\u001b[0;34m()\u001b[0m\n\u001b[1;32m      1\u001b[0m \u001b[0;31m#it does not allowed slicing\u001b[0m\u001b[0;34m\u001b[0m\u001b[0;34m\u001b[0m\u001b[0m\n\u001b[0;32m----> 2\u001b[0;31m \u001b[0mprint\u001b[0m\u001b[0;34m(\u001b[0m\u001b[0mset\u001b[0m\u001b[0;34m[\u001b[0m\u001b[0;36m1\u001b[0m\u001b[0;34m:\u001b[0m\u001b[0;36m3\u001b[0m\u001b[0;34m]\u001b[0m\u001b[0;34m)\u001b[0m\u001b[0;34m\u001b[0m\u001b[0;34m\u001b[0m\u001b[0m\n\u001b[0m",
            "\u001b[0;31mTypeError\u001b[0m: 'set' object is not subscriptable"
          ]
        }
      ]
    },
    {
      "cell_type": "code",
      "source": [
        "# written in currly bracket {}\n",
        "{20,30,400,1,1,30,30,3, 4}"
      ],
      "metadata": {
        "colab": {
          "base_uri": "https://localhost:8080/"
        },
        "id": "ZDnIoaH9zJwM",
        "outputId": "a6c561a1-a5f4-46bc-b6ed-aac4cacb2938"
      },
      "execution_count": null,
      "outputs": [
        {
          "output_type": "execute_result",
          "data": {
            "text/plain": [
              "{1, 3, 4, 20, 30, 400}"
            ]
          },
          "metadata": {},
          "execution_count": 46
        }
      ]
    },
    {
      "cell_type": "code",
      "source": [
        "print(type(set))"
      ],
      "metadata": {
        "colab": {
          "base_uri": "https://localhost:8080/"
        },
        "id": "r_xBa353zWxy",
        "outputId": "7f7ef164-7b56-460d-f6bf-227a7b110300"
      },
      "execution_count": null,
      "outputs": [
        {
          "output_type": "stream",
          "name": "stdout",
          "text": [
            "<class 'set'>\n"
          ]
        }
      ]
    },
    {
      "cell_type": "markdown",
      "source": [
        "# **tuple and sets use cases**"
      ],
      "metadata": {
        "id": "utynMQat0kPt"
      }
    },
    {
      "cell_type": "code",
      "source": [
        "#uple is immutable used for storing data which do not want to change example stoting aadhar number genrated one time cannot be changed\n",
        "aadhar_number= (407128,74963,89632,966532,)"
      ],
      "metadata": {
        "id": "5zdyOyGp0qkr"
      },
      "execution_count": null,
      "outputs": []
    },
    {
      "cell_type": "code",
      "source": [
        "#Ordered Tuples maintain the order of elements and can access elements via indexing.\n",
        "print(aadhar_number[1:3])"
      ],
      "metadata": {
        "colab": {
          "base_uri": "https://localhost:8080/"
        },
        "id": "PFC63Sh53Z2a",
        "outputId": "0a071c78-6410-46cc-cd6a-e47738b6d0bb"
      },
      "execution_count": null,
      "outputs": [
        {
          "output_type": "stream",
          "name": "stdout",
          "text": [
            "(74963, 89632)\n"
          ]
        }
      ]
    },
    {
      "cell_type": "code",
      "source": [
        "#set it does not allowed duplicate elements example employ id we can not provide id once its mentioned\n",
        "id={407128,74963,89632,407128,966532,}"
      ],
      "metadata": {
        "id": "735g7pRQ4xoS"
      },
      "execution_count": null,
      "outputs": []
    },
    {
      "cell_type": "code",
      "source": [
        "print(id)"
      ],
      "metadata": {
        "colab": {
          "base_uri": "https://localhost:8080/"
        },
        "id": "BiDMSE9N5eTQ",
        "outputId": "a047f2a4-f249-46c9-df37-b3bdc0e71900"
      },
      "execution_count": null,
      "outputs": [
        {
          "output_type": "stream",
          "name": "stdout",
          "text": [
            "{407128, 89632, 74963, 966532}\n"
          ]
        }
      ]
    },
    {
      "cell_type": "code",
      "source": [
        "#set allow us to do comparsion using mathmatical oprations\n",
        "#union all uniqe elements from set1 and set2\n",
        "t = {1, 2, 3, 4, 5, 6}\n",
        "u = {4, 5, 6, 7, 8, 9}\n",
        "print(t | u)"
      ],
      "metadata": {
        "colab": {
          "base_uri": "https://localhost:8080/"
        },
        "id": "r0f_GbE75usN",
        "outputId": "93edccb6-5e86-40db-b6fe-9edecb2a17f8"
      },
      "execution_count": null,
      "outputs": [
        {
          "output_type": "stream",
          "name": "stdout",
          "text": [
            "{1, 2, 3, 4, 5, 6, 7, 8, 9}\n"
          ]
        }
      ]
    },
    {
      "cell_type": "code",
      "source": [
        "#Intersection return common elements of set\n",
        "t = {1, 2, 3, 4, 5, 6}\n",
        "u = {4, 5, 6, 7, 8, 9}\n",
        "print(t&u)"
      ],
      "metadata": {
        "colab": {
          "base_uri": "https://localhost:8080/"
        },
        "id": "2UIf3A2m8hg8",
        "outputId": "6cebdac1-050d-4f27-9e61-ec07f7aa25aa"
      },
      "execution_count": null,
      "outputs": [
        {
          "output_type": "stream",
          "name": "stdout",
          "text": [
            "{4, 5, 6}\n"
          ]
        }
      ]
    },
    {
      "cell_type": "code",
      "source": [
        "#set diffrence present in one set and not present in other set\n",
        "t = {1, 2, 3, 4, 5, 6}\n",
        "u = {4, 5, 6, 7, 8, 9}\n",
        "print(t-u)"
      ],
      "metadata": {
        "colab": {
          "base_uri": "https://localhost:8080/"
        },
        "id": "4O5Aq_Zt9Hun",
        "outputId": "a8ead8bc-4f7f-45f9-9bbf-56dbbd1e71b1"
      },
      "execution_count": null,
      "outputs": [
        {
          "output_type": "stream",
          "name": "stdout",
          "text": [
            "{1, 2, 3}\n"
          ]
        }
      ]
    },
    {
      "cell_type": "code",
      "source": [
        "#set symetric all element without common\n",
        "t = {1, 2, 3, 4, 5, 6}\n",
        "u = {4, 5, 6, 7, 8, 9}\n",
        "print(t^u)"
      ],
      "metadata": {
        "colab": {
          "base_uri": "https://localhost:8080/"
        },
        "id": "v-ZE8Srt9xh5",
        "outputId": "90657036-d17c-4ef3-a564-91d92203b193"
      },
      "execution_count": null,
      "outputs": [
        {
          "output_type": "stream",
          "name": "stdout",
          "text": [
            "{1, 2, 3, 7, 8, 9}\n"
          ]
        }
      ]
    },
    {
      "cell_type": "code",
      "source": [
        "#frozen set canot add or remove any element\n",
        "s = frozenset([1, 2, 3, 4, 5])\n",
        "\n"
      ],
      "metadata": {
        "id": "5OOmINUz-Zkt"
      },
      "execution_count": null,
      "outputs": []
    },
    {
      "cell_type": "code",
      "source": [
        "#add,modify, and delete items in a dictionary\n",
        "dict = {\n",
        "  \"name\": \"frog\",\n",
        "  \"model\": \"Mustang\",\n",
        "  \"year\": 1964\n",
        "}\n",
        "print(dict)"
      ],
      "metadata": {
        "colab": {
          "base_uri": "https://localhost:8080/"
        },
        "id": "BiKVLXhCA3vq",
        "outputId": "2801bbf1-45a0-43d3-b2cc-6af16c92662b"
      },
      "execution_count": null,
      "outputs": [
        {
          "output_type": "stream",
          "name": "stdout",
          "text": [
            "{'name': 'frog', 'model': 'Mustang', 'year': 1964}\n"
          ]
        }
      ]
    },
    {
      "cell_type": "code",
      "source": [
        "#to modify\n",
        "dict[\"name\"] = \"Alcohol\""
      ],
      "metadata": {
        "id": "fX6FmUBcEVaj"
      },
      "execution_count": null,
      "outputs": []
    },
    {
      "cell_type": "code",
      "source": [
        "print(dict)"
      ],
      "metadata": {
        "colab": {
          "base_uri": "https://localhost:8080/"
        },
        "id": "IvYOJKEUEz7c",
        "outputId": "55972792-8ee2-45a6-8902-09939919fc7f"
      },
      "execution_count": null,
      "outputs": [
        {
          "output_type": "stream",
          "name": "stdout",
          "text": [
            "{'name': 'Alcohol', 'model': 'Mustang', 'year': 1964}\n"
          ]
        }
      ]
    },
    {
      "cell_type": "code",
      "source": [
        "# Deleting an item\n",
        "del dict[\"name\"]\n",
        "\n",
        "print(dict)"
      ],
      "metadata": {
        "colab": {
          "base_uri": "https://localhost:8080/"
        },
        "id": "RWP7ZCa5Id30",
        "outputId": "0072c551-1bb3-483a-9b5c-11e7fcc77862"
      },
      "execution_count": null,
      "outputs": [
        {
          "output_type": "stream",
          "name": "stdout",
          "text": [
            "{'model': 'Mustang', 'year': 1964}\n"
          ]
        }
      ]
    },
    {
      "cell_type": "code",
      "source": [
        "dict.pop(\"year\")"
      ],
      "metadata": {
        "colab": {
          "base_uri": "https://localhost:8080/"
        },
        "id": "YJuEVSlWJOs8",
        "outputId": "f11fadb5-eef5-4b60-dfb5-193f8f1bf4e0"
      },
      "execution_count": null,
      "outputs": [
        {
          "output_type": "execute_result",
          "data": {
            "text/plain": [
              "1964"
            ]
          },
          "metadata": {},
          "execution_count": 95
        }
      ]
    },
    {
      "cell_type": "code",
      "source": [
        "dict.clear()"
      ],
      "metadata": {
        "id": "cxdEM7-UJrWa"
      },
      "execution_count": null,
      "outputs": []
    },
    {
      "cell_type": "code",
      "source": [
        "print(dict)"
      ],
      "metadata": {
        "colab": {
          "base_uri": "https://localhost:8080/"
        },
        "id": "YQ3oD5nQJuDt",
        "outputId": "58251dd3-89b9-4d0c-ed7b-7c90f3922f13"
      },
      "execution_count": null,
      "outputs": [
        {
          "output_type": "stream",
          "name": "stdout",
          "text": [
            "{}\n"
          ]
        }
      ]
    },
    {
      "cell_type": "code",
      "source": [
        "#  immutable objects as keys\n",
        "my_dict = {\n",
        "    'name': 'Alice',\n",
        "    1: 'One',\n",
        "    3.14: 'Pi',\n",
        "    (1, 2, 3): 'Tuple Key'\n",
        "}"
      ],
      "metadata": {
        "id": "DwJYir_OLT2A"
      },
      "execution_count": null,
      "outputs": []
    },
    {
      "cell_type": "code",
      "source": [
        "print(my_dict)"
      ],
      "metadata": {
        "colab": {
          "base_uri": "https://localhost:8080/"
        },
        "id": "-gAX-MhILnw7",
        "outputId": "c1925b4d-6b0e-4057-9a8f-a7212bfe6d48"
      },
      "execution_count": null,
      "outputs": [
        {
          "output_type": "stream",
          "name": "stdout",
          "text": [
            "{'name': 'Alice', 1: 'One', 3.14: 'Pi', (1, 2, 3): 'Tuple Key'}\n"
          ]
        }
      ]
    },
    {
      "cell_type": "code",
      "source": [
        "# Attempting to use a mutable object (list) as a key will raise a TypeError\n",
        "my_dict = {\n",
        "    [1, 2, 3]: 'List Key' '\n",
        "}"
      ],
      "metadata": {
        "colab": {
          "base_uri": "https://localhost:8080/",
          "height": 106
        },
        "id": "Sp_djvZULulY",
        "outputId": "9bf01ae0-8060-4f28-8b6f-8e5147fcbc93"
      },
      "execution_count": null,
      "outputs": [
        {
          "output_type": "error",
          "ename": "SyntaxError",
          "evalue": "unterminated string literal (detected at line 3) (<ipython-input-102-d0df7f6aeafb>, line 3)",
          "traceback": [
            "\u001b[0;36m  File \u001b[0;32m\"<ipython-input-102-d0df7f6aeafb>\"\u001b[0;36m, line \u001b[0;32m3\u001b[0m\n\u001b[0;31m    [1, 2, 3]: 'List Key' '\u001b[0m\n\u001b[0m                          ^\u001b[0m\n\u001b[0;31mSyntaxError\u001b[0m\u001b[0;31m:\u001b[0m unterminated string literal (detected at line 3)\n"
          ]
        }
      ]
    }
  ]
}